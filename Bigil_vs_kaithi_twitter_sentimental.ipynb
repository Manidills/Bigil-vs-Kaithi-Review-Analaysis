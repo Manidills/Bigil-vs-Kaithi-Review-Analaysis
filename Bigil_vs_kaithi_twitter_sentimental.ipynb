{
  "nbformat": 4,
  "nbformat_minor": 0,
  "metadata": {
    "colab": {
      "name": "Bigil vs kaithi twitter sentimental",
      "provenance": [],
      "collapsed_sections": []
    },
    "kernelspec": {
      "name": "python3",
      "display_name": "Python 3"
    },
    "accelerator": "TPU"
  },
  "cells": [
    {
      "cell_type": "code",
      "metadata": {
        "id": "F5eMGGxQLnML",
        "colab_type": "code",
        "colab": {
          "base_uri": "https://localhost:8080/",
          "height": 211
        },
        "outputId": "4a5c4fdb-cd86-4434-d88e-784c638f74de"
      },
      "source": [
        "!pip install tweepy"
      ],
      "execution_count": 20,
      "outputs": [
        {
          "output_type": "stream",
          "text": [
            "Requirement already satisfied: tweepy in /usr/local/lib/python3.6/dist-packages (3.6.0)\n",
            "Requirement already satisfied: requests>=2.11.1 in /usr/local/lib/python3.6/dist-packages (from tweepy) (2.21.0)\n",
            "Requirement already satisfied: PySocks>=1.5.7 in /usr/local/lib/python3.6/dist-packages (from tweepy) (1.7.1)\n",
            "Requirement already satisfied: six>=1.10.0 in /usr/local/lib/python3.6/dist-packages (from tweepy) (1.12.0)\n",
            "Requirement already satisfied: requests-oauthlib>=0.7.0 in /usr/local/lib/python3.6/dist-packages (from tweepy) (1.2.0)\n",
            "Requirement already satisfied: certifi>=2017.4.17 in /usr/local/lib/python3.6/dist-packages (from requests>=2.11.1->tweepy) (2019.9.11)\n",
            "Requirement already satisfied: chardet<3.1.0,>=3.0.2 in /usr/local/lib/python3.6/dist-packages (from requests>=2.11.1->tweepy) (3.0.4)\n",
            "Requirement already satisfied: urllib3<1.25,>=1.21.1 in /usr/local/lib/python3.6/dist-packages (from requests>=2.11.1->tweepy) (1.24.3)\n",
            "Requirement already satisfied: idna<2.9,>=2.5 in /usr/local/lib/python3.6/dist-packages (from requests>=2.11.1->tweepy) (2.8)\n",
            "Requirement already satisfied: oauthlib>=3.0.0 in /usr/local/lib/python3.6/dist-packages (from requests-oauthlib>=0.7.0->tweepy) (3.1.0)\n"
          ],
          "name": "stdout"
        }
      ]
    },
    {
      "cell_type": "code",
      "metadata": {
        "id": "mswVRmlgL0YA",
        "colab_type": "code",
        "colab": {}
      },
      "source": [
        "consumer_key = \"SaMSYfPnpQXsgeEFywA8pLg1C\"\n",
        "consumer_secret = \"o9BjVfJHhxWmPOAT39f7i0KHJuwGb8r9k1VjHQvl4q51Gaz5I5\"\n",
        "access_token = \"2238923408-XqfhQ40evLEZSVDUYAlZmLJF6IJXR0SCtp04Xy7\"\n",
        "access_token_secret = \"BKqoLg2YglIqm0txjSI9oahhecxWox6a4q7g66iQe5ZvA\"\n"
      ],
      "execution_count": 0,
      "outputs": []
    },
    {
      "cell_type": "code",
      "metadata": {
        "id": "P3JsFqf3L5Ji",
        "colab_type": "code",
        "colab": {}
      },
      "source": [
        "import tweepy"
      ],
      "execution_count": 0,
      "outputs": []
    },
    {
      "cell_type": "code",
      "metadata": {
        "id": "F02pMecUL8zZ",
        "colab_type": "code",
        "colab": {}
      },
      "source": [
        "auth=tweepy.OAuthHandler(consumer_key,consumer_secret)\n",
        "auth.set_access_token(access_token,access_token_secret)"
      ],
      "execution_count": 0,
      "outputs": []
    },
    {
      "cell_type": "code",
      "metadata": {
        "id": "IPitbQS8MZhL",
        "colab_type": "code",
        "colab": {}
      },
      "source": [
        "api=tweepy.API(auth)"
      ],
      "execution_count": 0,
      "outputs": []
    },
    {
      "cell_type": "code",
      "metadata": {
        "id": "mlu5y0o1M31A",
        "colab_type": "code",
        "colab": {}
      },
      "source": [
        "twittes=api.home_timeline()"
      ],
      "execution_count": 0,
      "outputs": []
    },
    {
      "cell_type": "code",
      "metadata": {
        "id": "NP13PbmhNDT8",
        "colab_type": "code",
        "colab": {
          "base_uri": "https://localhost:8080/",
          "height": 367
        },
        "outputId": "694e3eb6-0a46-4215-9fae-ab141b5661f1"
      },
      "source": [
        "for i in twittes:\n",
        "    print(i.text)"
      ],
      "execution_count": 38,
      "outputs": [
        {
          "output_type": "stream",
          "text": [
            "देश का नम्बर one political शो on digital: देखना ना भूले! Neta Nagri:  https://t.co/X0IEhleIrH @TheLallantop… https://t.co/sFfOUEIJiE\n",
            "#Poem – open and sing #muz4now https://t.co/AgsJM7vxbq https://t.co/Q7mwQxPk30\n",
            "RT @abhinav6310: https://t.co/aH2Aeq4RGp\n",
            "today's episode @TheLallantop  #NetaNagri  was on another level...\n",
            "loved the energy of @sardesaira…\n",
            "After super vibrant #Kailasa concert At #sahityaaajtak19 @_aajtak @IndiaToday met our very own @rekha_bhardwaj and… https://t.co/Xn7oYzeX84\n",
            ".@drharshvardhan Toxic air is slowly killing us so let’s act fast. Help @NSOOD6 solve this public health crisis. On… https://t.co/smYZOl2E3R\n",
            "नाले में पड़ा मिला दर्जन भर गायों की खाल और कटा हुआ सिर: अज्ञात लोगों के खिलाफ मुकदमा दर्ज - Hindi News Opin https://t.co/y4njZyAHmG\n",
            "https://t.co/zCF4vFR1Cq\n",
            "बिहार का वो शहर जहॉं पहली बार सीता ने की थी छठ पूजा, आज भी मौजूद हैं चरणों के निशान - Hindi News Opindia https://t.co/NQl6yTMDOl\n",
            "RT @NCWIndia: @NCWIndia always advocated establishing anti-trafficking units in every district to curb the menace of trafficking of women a…\n",
            "RT @unwomenindia: We commend the decision made by the Govt. of India, under the leadership of PM @narendramodi, to set up Anti-Human Traffi…\n",
            "Happy Birthday to someone who's as witty and charming on-screen as he is in person!\n",
            "Have a great one my dear friend… https://t.co/fdsACVTzGB\n",
            "RT @eems_mit: @TlkngMchns @lawrennd MARS talk available at https://t.co/TKrvzpwmpJ\n",
            "A partisan call to impeach @POTUS @realDonaldTrump is not a very strong endorsement of a democratic US. The call fo… https://t.co/RRvZBXUQXf\n",
            "Grateful to HM @AmitShah Ji &amp; @HMOIndia for speedy intervention &amp; ensuring efficacy in fructifying this kind of fir… https://t.co/bEgnMRnOuu\n",
            "NIRBHAYA Fund will help set-up Women Help Desks in all Police Stations &amp; Anti-Human Trafficking Units in all distri… https://t.co/x88CbVGn0t\n",
            "RT @sunandavashisht: I understand more now how some people can die of a broken heart. https://t.co/lkg2R2VZbl\n"
          ],
          "name": "stdout"
        }
      ]
    },
    {
      "cell_type": "code",
      "metadata": {
        "id": "OQE76FcHVHg3",
        "colab_type": "code",
        "colab": {}
      },
      "source": [
        "consumer_key = \"SaMSYfPnpQXsgeEFywA8pLg1C\"\n",
        "consumer_secret = \"o9BjVfJHhxWmPOAT39f7i0KHJuwGb8r9k1VjHQvl4q51Gaz5I5\"\n",
        "access_token = \"2238923408-XqfhQ40evLEZSVDUYAlZmLJF6IJXR0SCtp04Xy7\"\n",
        "access_token_secret = \"BKqoLg2YglIqm0txjSI9oahhecxWox6a4q7g66iQe5ZvA\"\n"
      ],
      "execution_count": 0,
      "outputs": []
    },
    {
      "cell_type": "code",
      "metadata": {
        "id": "R3jMwLg4NLFa",
        "colab_type": "code",
        "colab": {}
      },
      "source": [
        "from tweepy import Stream\n",
        "from tweepy import StreamListener\n",
        "import json\n",
        "from textblob import TextBlob\n",
        "import re\n",
        "import csv"
      ],
      "execution_count": 0,
      "outputs": []
    },
    {
      "cell_type": "code",
      "metadata": {
        "id": "TIgYW8dpOCmh",
        "colab_type": "code",
        "colab": {}
      },
      "source": [
        "bigil = 0\n",
        "kaithi = 0\n",
        "\n",
        "header_name = ['bigil', 'kaithi']\n",
        "with open('sentiment.csv', 'w') as file:\n",
        "    writer = csv.DictWriter(file, fieldnames=header_name)\n",
        "    writer.writeheader()\n",
        "\n",
        "class Listener(StreamListener):\n",
        "    \n",
        "    def on_data(self, data):\n",
        "        raw_twitts = json.loads(data)\n",
        "        try:\n",
        "            tweets = raw_twitts['text']\n",
        "            \n",
        "            tweets = ' '.join(re.sub(\"(@[A-Za-z0-9]+)|([^0-9A-Za-z \\t])|(\\w+:\\/\\/\\S+)\", \" \", tweets).split())\n",
        "            tweets = ' '.join(re.sub('RT',' ', tweets).split())\n",
        "            \n",
        "            blob = TextBlob(tweets.strip())\n",
        "            \n",
        "            global bigil\n",
        "            global kaithi\n",
        "            \n",
        "            bigil_sentiment = 0\n",
        "            kaithi_sentiment = 0\n",
        "            \n",
        "            for sent in blob.sentences:\n",
        "                if \"bigil\" in sent and \"kaithi\" not in sent:\n",
        "                    bigil_sentiment = bigil_sentiment + sent.sentiment.polarity\n",
        "                else:\n",
        "                    kaithi_sentiment = kaithi_sentiment + sent.sentiment.polarity\n",
        "            \n",
        "            bigil = bigil + bigil_sentiment\n",
        "            kaithi = kaithi + kaithi_sentiment\n",
        "            \n",
        "            with open('sentiment.csv', 'a') as file:\n",
        "                writer = csv.DictWriter(file, fieldnames=header_name)\n",
        "                info = {\n",
        "                    'bigil': bigil,\n",
        "                    'kaithi': kaithi\n",
        "                }\n",
        "                writer.writerow(info)\n",
        "            \n",
        "            print(tweets)\n",
        "            print()\n",
        "        except:\n",
        "            print('Error got')\n",
        "        \n",
        "    def on_error(self, status):\n",
        "        print(status)\n",
        "\n"
      ],
      "execution_count": 0,
      "outputs": []
    },
    {
      "cell_type": "code",
      "metadata": {
        "colab_type": "code",
        "id": "bkChGuGebHEI",
        "colab": {
          "base_uri": "https://localhost:8080/",
          "height": 69
        },
        "outputId": "0433c51d-2bee-4249-f7b8-6858b07c1b1b"
      },
      "source": [
        "import nltk\n",
        "nltk.download('punkt')"
      ],
      "execution_count": 42,
      "outputs": [
        {
          "output_type": "stream",
          "text": [
            "[nltk_data] Downloading package punkt to /root/nltk_data...\n",
            "[nltk_data]   Package punkt is already up-to-date!\n"
          ],
          "name": "stdout"
        },
        {
          "output_type": "execute_result",
          "data": {
            "text/plain": [
              "True"
            ]
          },
          "metadata": {
            "tags": []
          },
          "execution_count": 42
        }
      ]
    },
    {
      "cell_type": "code",
      "metadata": {
        "id": "cLU8b03wR6ro",
        "colab_type": "code",
        "colab": {}
      },
      "source": [
        "auth = tweepy.OAuthHandler(consumer_key, consumer_secret)\n",
        "auth.set_access_token(access_token, access_token_secret)"
      ],
      "execution_count": 0,
      "outputs": []
    },
    {
      "cell_type": "code",
      "metadata": {
        "id": "fiUQIdNnUgrB",
        "colab_type": "code",
        "colab": {
          "base_uri": "https://localhost:8080/",
          "height": 1000
        },
        "outputId": "b78315c5-94cc-4ce4-d8b2-17850268ac2e"
      },
      "source": [
        "tweeter_stream=Stream(auth,Listener())\n",
        "tweeter_stream.filter(track=['bigil', 'kaithi'])"
      ],
      "execution_count": 44,
      "outputs": [
        {
          "output_type": "stream",
          "text": [
            "But its unhealthy to compare that 125 vadai with Bigil s actuals\n",
            "\n",
            "BIGIL Thalapathy VIJAY ThalapathyVijay\n",
            "\n",
            "Vera level Dance Thalaivi Nayanthara and Thalapathy Vijay last 20 seconds Semma kuthu dance chance illa Nayanthara\n",
            "\n",
            "Straight from heart That shows MB love towards good cinema Without any expectations he is doing this\n",
            "\n",
            "Seems like Viswasam will win this poll\n",
            "\n",
            "Bigil doing fantastic on the second weekend Family audience pouring in\n",
            "\n",
            "T\n",
            "\n",
            "Hey due to Heavy rain people didn t come That theatre running Bigil in 2 Screens Both are 1000 se\n",
            "\n",
            "Tweetz COUNT 5 Bigil with KUTTIES ANGELS Starting leh irunthu Ending varaikkom Enjoy pannanga A very Blessed Day\n",
            "\n",
            "Bigil has surpassed Viswasam to become No 2 Tamil Movie of 2019 at the WW Box Office 2019 Top 3 Tamil Movies WW BO\n",
            "\n",
            "Same media about bigil\n",
            "\n",
            "bigil bigilvictory viralvideo Singapenney dir ThalapathyVijay\n",
            "\n",
            "Offl Rise Above The Haters Almost Many Singapenney Are Coming Out From Their Prblm By Watching Bigil Movie Really Hats\n",
            "\n",
            "Bigil Box office OFFICIAL Report by SundarArumugam of who brought TN theatrical rights in an interview wit\n",
            "\n",
            "\n",
            "\n",
            "Show Time Bigil First Time in Chrompet Sprb Audience Power Packed Bigil\n",
            "\n",
            "Chennai City 8 days BO 1 Bigil 9 39 Crs 2 Kaithi 2 42 Crs\n",
            "\n",
            "Viswasam BigilDiwali Record BoxOffice Collection TamilNadu\n",
            "\n",
            "Seen a lot of tweets about cancellation of shows at the Devi theatre in Chennai for Bigil After the TV snippet\n",
            "\n",
            "VjMsd Excellent bookings all over Chennai for both Single Complex especially DEVI main screen got filled in Advance BLOCKBUSTER\n",
            "\n",
            "Thriller Competitor Bigil\n",
            "\n",
            "2 30\n",
            "\n",
            "Top Ten Tamil Nadu 7 days grossers Bigil takes the second spot\n",
            "\n",
            "Bigil 240Cr TN la 108Cr\n",
            "\n",
            "Akilan4055 BIGILHits100CrsInTN Best climax scene Fav Viswasam Bigil BIGIL RAGE EVERYWHERE\n",
            "\n",
            "List of 100CR Movies of our very own ThalapathyVijay from 2012 2019 Undoubtedly the Box Office Monster Of Tamil Cinema\n",
            "\n",
            "This will be a raw rugged unpredictable and a powerful in Thalapathy64 The Bigil star chose to do this\n",
            "\n",
            "Showtime Kaithi Count 3\n",
            "\n",
            "PongalwinnerPetta Bigil\n",
            "\n",
            "Bigil Malaysia Box Office Report Oct 25 27 1st weekend Gross MYR 4 116 000 979 000 6 95 Cr Oct 25\n",
            "\n",
            "This is all we wanted Can someone tag the wonderful person in this video\n",
            "\n",
            "So SuperDeluxe is out of VettriTopTen 2019 Here are the qualified ones LISTED AS PER RELEASE DATE Viswasam P\n",
            "\n",
            "Bigil rampage in TN BlockBusterBigil\n",
            "\n",
            "Bigil doing fantastic on the second weekend Family audience pouring in\n",
            "\n",
            "Bigil 2nd weekend Saturday matni will go full in both Devi Big screen and Devi Kala\n",
            "\n",
            "\n",
            "\n",
            "Bigil dethrones Petta to become THE highest earning Kollywood title in 2019 Marching towards the second top grossing\n",
            "\n",
            "\n",
            "\n",
            "Bigil Today evening show 2nd weekend in all 4 screens of Ambattur Rakki Excellent hold\n",
            "\n",
            "Rare Bird Guys do watch it on I always need your love and support Thank you bigil Bigi\n",
            "\n",
            "5 dhaan Naalaiku 6th time Paaka poren But my mams Pokkiri5 10 Thaandi Poituruku Avana Beat panna Mudila\n",
            "\n",
            "Monica The true success of BIGIL LOVE YOU CHELLAM\n",
            "\n",
            "BigilBoxOffice SundarArumugam of who brought TN theatrical rights in an interview with hindu says\n",
            "\n",
            "Who is your most favorite father Bigil Viswasam Deivathirumagal VarnamAayirm\n",
            "\n",
            "Offl 2 15pm Show In Urvashi Theater Is Housefull Today Almost Many Family Audience Are Came to Watch Bigil Movie Bigil Big\n",
            "\n",
            "BigilDiwali my favorite scene for Bigil CuppuMukkiyamBigilu FavScene\n",
            "\n",
            "twitzz Ipdiye pesitu iruntha epdi Yaaru perusunu adichii Kaatunga pa Bigil Samantha Rt KeerthySuresh Like http\n",
            "\n",
            "So far Bigil has comfortably crossed 100 crore in TN in its first week Film has been profitable for everyone in th\n",
            "\n",
            "\n",
            "\n",
            "Offl Rise Above The Haters Almost Many Singapenney Are Coming Out From Their Prblm By Watching Bigil Movie Really Hats\n",
            "\n",
            "rage bigil will surpass mersal lifetime collection in UK by tomorrow amp chances to surpass Sarkar s lifetime collection in UK\n",
            "\n",
            "Prasad Bigil more positivity in it s 2nd week for the movie theatre owners r double happy amp saying 60 65 ppls who watches r wom\n",
            "\n",
            "Last Line\n",
            "\n",
            "2 30\n",
            "\n",
            "off Akka amp Monica see this Your Team won the\n",
            "\n",
            "Bigil Rayappan BlockBusterBigil ThalapathyVijay\n",
            "\n",
            "One quality I admire in Telugu Superstar is his kind gesture of appreciating all quality films Now Kaith\n",
            "\n",
            "BigilBigilBigiluma trending at 1 in India Bigil\n",
            "\n",
            "I watched with my family on first day nanba Verithanam Verithanam Bigil\n",
            "\n",
            "2 30\n",
            "\n",
            "TFC Woooooohoooooo Viswasam is leading now those who are not yet voted please vote\n",
            "\n",
            "2014 Veeram Valimai Viswasam BigilDisaster\n",
            "\n",
            "ganesh Bigil 25\n",
            "\n",
            "Off Congratulations my dear Superstar Best wishes from your beloved Shishyan ThalapathyVIJAY fans Stay healthy amp blessed sir\n",
            "\n",
            "Bigil today semma Occupancy in Coimbatore Sample\n",
            "\n",
            "Bigil is determinant at the Tamil Nadu Box office as the film packs it s opening week above 100 Crore Third consecutive\n",
            "\n",
            "rage bigil will surpass mersal lifetime collection in UK by tomorrow amp chances to surpass Sarkar s lifetime collection in UK\n",
            "\n",
            "100 BIGILH\n",
            "\n",
            "Bigil dethrones Petta to become 2019 s top grossing Tamil title Read here 2019sNo1KWGrosserB\n",
            "\n",
            "bigil bigilvictory viralvideo Singapenney dir ThalapathyVijay\n",
            "\n",
            "Pokkiri5 Kanavu Thelunjuruchu enthiri Da Thevdiya Naaye Bigil BIGILHits100CrsInTN\n",
            "\n",
            "Avaruku KS Ravikumar set aacadha ore hero naan matumtha nenakiran and he smiles When the crowd laughs and mock hi\n",
            "\n",
            "Kaithi Except TN KA Break Even Done In Almost All Centres TN amp Karnataka BE Will Be done within in 2nd Weekend An\n",
            "\n",
            "2 30\n",
            "\n",
            "Bigil Today evening show 2nd weekend in all 4 screens of Ambattur Rakki Excellent hold\n",
            "\n",
            "Kaithi 9th Day Chennai City Area Largest Screen Devi Paradise 1047 Seats 4 PM Show SOLDOUT\n",
            "\n",
            "80 special kids from a nearby home are watching their favourite Thalapthy s Bigil right now Here s t\n",
            "\n",
            "Hey dir simply loved BIGIL and it was a full house theater Treat for audience with FAB Performances by\n",
            "\n",
            "Seen a lot of tweets about cancellation of shows at the Devi theatre in Chennai for Bigil After the TV snippet here\n",
            "\n",
            "NGK moved to Umaa in just 1 week NKP moved to Umaa in just 1 week BIGIL amp VISWASAM only retained in Rajendra for 2\n",
            "\n",
            "50 CR WW gross done in 8 days Kaithi Khaidi rocking 2nd weekend boom begins now\n",
            "\n",
            "Bigil is hungry for records After dethroning Petta to emerge as highest grossing Tamil film of 2019 Bigil is en rout\n",
            "\n",
            "Bigil 3rd Time With 2002 tamilan\n",
            "\n",
            "Bigil Beat Viswasam Petta Box office record in Below Area Kerala Karnataka AP TS UAE Srilanka Singapore M\n",
            "\n",
            "\n",
            "\n",
            "Viswasam 125 Crs 8 days BIGGEST clash Bigil 100 Crs 7 Days clash with tier 2 actor Know your level anils Undisp\n",
            "\n",
            "Your choice Bigil Kaithi\n",
            "\n",
            "TRENDING right at 1 Thalapathy s Bigil suave max BigilBigilBigilumaVideo\n",
            "\n",
            "Show Time Bigil First Time in Chrompet Sprb Audience Power Packed Bigil\n",
            "\n",
            "Viswasam BigilDiwali Record BoxOffice Collection TamilNadu\n",
            "\n",
            "Its More Official Now TN Bigil Distributor s Mr SundarArumugam Say Movie Crossed 100 Cr Comfortabl\n",
            "\n",
            "On The Way Bigil Design Memes Offl\n",
            "\n",
            "Big budget Diwali Rls film Bigil failed to beat Viswasam collections in BalajiCinemas and VasanthaRajaTheatre None\n",
            "\n",
            "100 BIGILH\n",
            "\n",
            "Bigil is now 2019 s highest WORLDWIDE grosser from Kollywood overtaking Petta amazing feat achieved within the span of\n",
            "\n",
            "BiGiL Takes a Mammoth Opening in Malaysia Enters All Time Top 5 in Just 6D 6Days Gross MYR 9 29Million 2 21M\n",
            "\n",
            "2 30\n",
            "\n",
            "Seen a lot of tweets about cancellation of shows at the Devi theatre in Chennai for Bigil After the TV snippet here\n",
            "\n",
            "bigil bigilvictory viralvideo Singapenney dir ThalapathyVijay\n",
            "\n",
            "2 30\n",
            "\n",
            "T\n",
            "\n",
            "downplay\n",
            "\n",
            "2 30\n",
            "\n",
            "Bigil 2nd weekend Saturday matni will go full in both Devi Big screen and Devi Kala\n",
            "\n"
          ],
          "name": "stdout"
        },
        {
          "output_type": "error",
          "ename": "KeyboardInterrupt",
          "evalue": "ignored",
          "traceback": [
            "\u001b[0;31m---------------------------------------------------------------------------\u001b[0m",
            "\u001b[0;31mKeyboardInterrupt\u001b[0m                         Traceback (most recent call last)",
            "\u001b[0;32m<ipython-input-44-3c9285a8d103>\u001b[0m in \u001b[0;36m<module>\u001b[0;34m()\u001b[0m\n\u001b[1;32m      1\u001b[0m \u001b[0mtweeter_stream\u001b[0m\u001b[0;34m=\u001b[0m\u001b[0mStream\u001b[0m\u001b[0;34m(\u001b[0m\u001b[0mauth\u001b[0m\u001b[0;34m,\u001b[0m\u001b[0mListener\u001b[0m\u001b[0;34m(\u001b[0m\u001b[0;34m)\u001b[0m\u001b[0;34m)\u001b[0m\u001b[0;34m\u001b[0m\u001b[0;34m\u001b[0m\u001b[0m\n\u001b[0;32m----> 2\u001b[0;31m \u001b[0mtweeter_stream\u001b[0m\u001b[0;34m.\u001b[0m\u001b[0mfilter\u001b[0m\u001b[0;34m(\u001b[0m\u001b[0mtrack\u001b[0m\u001b[0;34m=\u001b[0m\u001b[0;34m[\u001b[0m\u001b[0;34m'bigil'\u001b[0m\u001b[0;34m,\u001b[0m \u001b[0;34m'kaithi'\u001b[0m\u001b[0;34m]\u001b[0m\u001b[0;34m)\u001b[0m\u001b[0;34m\u001b[0m\u001b[0;34m\u001b[0m\u001b[0m\n\u001b[0m",
            "\u001b[0;32m/usr/local/lib/python3.6/dist-packages/tweepy/streaming.py\u001b[0m in \u001b[0;36mfilter\u001b[0;34m(self, follow, track, async, locations, stall_warnings, languages, encoding, filter_level)\u001b[0m\n\u001b[1;32m    448\u001b[0m         \u001b[0mself\u001b[0m\u001b[0;34m.\u001b[0m\u001b[0msession\u001b[0m\u001b[0;34m.\u001b[0m\u001b[0mparams\u001b[0m \u001b[0;34m=\u001b[0m \u001b[0;34m{\u001b[0m\u001b[0;34m'delimited'\u001b[0m\u001b[0;34m:\u001b[0m \u001b[0;34m'length'\u001b[0m\u001b[0;34m}\u001b[0m\u001b[0;34m\u001b[0m\u001b[0;34m\u001b[0m\u001b[0m\n\u001b[1;32m    449\u001b[0m         \u001b[0mself\u001b[0m\u001b[0;34m.\u001b[0m\u001b[0mhost\u001b[0m \u001b[0;34m=\u001b[0m \u001b[0;34m'stream.twitter.com'\u001b[0m\u001b[0;34m\u001b[0m\u001b[0;34m\u001b[0m\u001b[0m\n\u001b[0;32m--> 450\u001b[0;31m         \u001b[0mself\u001b[0m\u001b[0;34m.\u001b[0m\u001b[0m_start\u001b[0m\u001b[0;34m(\u001b[0m\u001b[0masync\u001b[0m\u001b[0;34m)\u001b[0m\u001b[0;34m\u001b[0m\u001b[0;34m\u001b[0m\u001b[0m\n\u001b[0m\u001b[1;32m    451\u001b[0m \u001b[0;34m\u001b[0m\u001b[0m\n\u001b[1;32m    452\u001b[0m     def sitestream(self, follow, stall_warnings=False,\n",
            "\u001b[0;32m/usr/local/lib/python3.6/dist-packages/tweepy/streaming.py\u001b[0m in \u001b[0;36m_start\u001b[0;34m(self, async)\u001b[0m\n\u001b[1;32m    362\u001b[0m             \u001b[0mself\u001b[0m\u001b[0;34m.\u001b[0m\u001b[0m_thread\u001b[0m\u001b[0;34m.\u001b[0m\u001b[0mstart\u001b[0m\u001b[0;34m(\u001b[0m\u001b[0;34m)\u001b[0m\u001b[0;34m\u001b[0m\u001b[0;34m\u001b[0m\u001b[0m\n\u001b[1;32m    363\u001b[0m         \u001b[0;32melse\u001b[0m\u001b[0;34m:\u001b[0m\u001b[0;34m\u001b[0m\u001b[0;34m\u001b[0m\u001b[0m\n\u001b[0;32m--> 364\u001b[0;31m             \u001b[0mself\u001b[0m\u001b[0;34m.\u001b[0m\u001b[0m_run\u001b[0m\u001b[0;34m(\u001b[0m\u001b[0;34m)\u001b[0m\u001b[0;34m\u001b[0m\u001b[0;34m\u001b[0m\u001b[0m\n\u001b[0m\u001b[1;32m    365\u001b[0m \u001b[0;34m\u001b[0m\u001b[0m\n\u001b[1;32m    366\u001b[0m     \u001b[0;32mdef\u001b[0m \u001b[0mon_closed\u001b[0m\u001b[0;34m(\u001b[0m\u001b[0mself\u001b[0m\u001b[0;34m,\u001b[0m \u001b[0mresp\u001b[0m\u001b[0;34m)\u001b[0m\u001b[0;34m:\u001b[0m\u001b[0;34m\u001b[0m\u001b[0;34m\u001b[0m\u001b[0m\n",
            "\u001b[0;32m/usr/local/lib/python3.6/dist-packages/tweepy/streaming.py\u001b[0m in \u001b[0;36m_run\u001b[0;34m(self)\u001b[0m\n\u001b[1;32m    264\u001b[0m                     \u001b[0mself\u001b[0m\u001b[0;34m.\u001b[0m\u001b[0msnooze_time\u001b[0m \u001b[0;34m=\u001b[0m \u001b[0mself\u001b[0m\u001b[0;34m.\u001b[0m\u001b[0msnooze_time_step\u001b[0m\u001b[0;34m\u001b[0m\u001b[0;34m\u001b[0m\u001b[0m\n\u001b[1;32m    265\u001b[0m                     \u001b[0mself\u001b[0m\u001b[0;34m.\u001b[0m\u001b[0mlistener\u001b[0m\u001b[0;34m.\u001b[0m\u001b[0mon_connect\u001b[0m\u001b[0;34m(\u001b[0m\u001b[0;34m)\u001b[0m\u001b[0;34m\u001b[0m\u001b[0;34m\u001b[0m\u001b[0m\n\u001b[0;32m--> 266\u001b[0;31m                     \u001b[0mself\u001b[0m\u001b[0;34m.\u001b[0m\u001b[0m_read_loop\u001b[0m\u001b[0;34m(\u001b[0m\u001b[0mresp\u001b[0m\u001b[0;34m)\u001b[0m\u001b[0;34m\u001b[0m\u001b[0;34m\u001b[0m\u001b[0m\n\u001b[0m\u001b[1;32m    267\u001b[0m             \u001b[0;32mexcept\u001b[0m \u001b[0;34m(\u001b[0m\u001b[0mTimeout\u001b[0m\u001b[0;34m,\u001b[0m \u001b[0mssl\u001b[0m\u001b[0;34m.\u001b[0m\u001b[0mSSLError\u001b[0m\u001b[0;34m)\u001b[0m \u001b[0;32mas\u001b[0m \u001b[0mexc\u001b[0m\u001b[0;34m:\u001b[0m\u001b[0;34m\u001b[0m\u001b[0;34m\u001b[0m\u001b[0m\n\u001b[1;32m    268\u001b[0m                 \u001b[0;31m# This is still necessary, as a SSLError can actually be\u001b[0m\u001b[0;34m\u001b[0m\u001b[0;34m\u001b[0m\u001b[0;34m\u001b[0m\u001b[0m\n",
            "\u001b[0;32m/usr/local/lib/python3.6/dist-packages/tweepy/streaming.py\u001b[0m in \u001b[0;36m_read_loop\u001b[0;34m(self, resp)\u001b[0m\n\u001b[1;32m    314\u001b[0m             \u001b[0mlength\u001b[0m \u001b[0;34m=\u001b[0m \u001b[0;36m0\u001b[0m\u001b[0;34m\u001b[0m\u001b[0;34m\u001b[0m\u001b[0m\n\u001b[1;32m    315\u001b[0m             \u001b[0;32mwhile\u001b[0m \u001b[0;32mnot\u001b[0m \u001b[0mresp\u001b[0m\u001b[0;34m.\u001b[0m\u001b[0mraw\u001b[0m\u001b[0;34m.\u001b[0m\u001b[0mclosed\u001b[0m\u001b[0;34m:\u001b[0m\u001b[0;34m\u001b[0m\u001b[0;34m\u001b[0m\u001b[0m\n\u001b[0;32m--> 316\u001b[0;31m                 \u001b[0mline\u001b[0m \u001b[0;34m=\u001b[0m \u001b[0mbuf\u001b[0m\u001b[0;34m.\u001b[0m\u001b[0mread_line\u001b[0m\u001b[0;34m(\u001b[0m\u001b[0;34m)\u001b[0m\u001b[0;34m.\u001b[0m\u001b[0mstrip\u001b[0m\u001b[0;34m(\u001b[0m\u001b[0;34m)\u001b[0m\u001b[0;34m\u001b[0m\u001b[0;34m\u001b[0m\u001b[0m\n\u001b[0m\u001b[1;32m    317\u001b[0m                 \u001b[0;32mif\u001b[0m \u001b[0;32mnot\u001b[0m \u001b[0mline\u001b[0m\u001b[0;34m:\u001b[0m\u001b[0;34m\u001b[0m\u001b[0;34m\u001b[0m\u001b[0m\n\u001b[1;32m    318\u001b[0m                     \u001b[0mself\u001b[0m\u001b[0;34m.\u001b[0m\u001b[0mlistener\u001b[0m\u001b[0;34m.\u001b[0m\u001b[0mkeep_alive\u001b[0m\u001b[0;34m(\u001b[0m\u001b[0;34m)\u001b[0m  \u001b[0;31m# keep-alive new lines are expected\u001b[0m\u001b[0;34m\u001b[0m\u001b[0;34m\u001b[0m\u001b[0m\n",
            "\u001b[0;32m/usr/local/lib/python3.6/dist-packages/tweepy/streaming.py\u001b[0m in \u001b[0;36mread_line\u001b[0;34m(self, sep)\u001b[0m\n\u001b[1;32m    179\u001b[0m             \u001b[0;32melse\u001b[0m\u001b[0;34m:\u001b[0m\u001b[0;34m\u001b[0m\u001b[0;34m\u001b[0m\u001b[0m\n\u001b[1;32m    180\u001b[0m                 \u001b[0mstart\u001b[0m \u001b[0;34m=\u001b[0m \u001b[0mlen\u001b[0m\u001b[0;34m(\u001b[0m\u001b[0mself\u001b[0m\u001b[0;34m.\u001b[0m\u001b[0m_buffer\u001b[0m\u001b[0;34m)\u001b[0m\u001b[0;34m\u001b[0m\u001b[0;34m\u001b[0m\u001b[0m\n\u001b[0;32m--> 181\u001b[0;31m             \u001b[0mself\u001b[0m\u001b[0;34m.\u001b[0m\u001b[0m_buffer\u001b[0m \u001b[0;34m+=\u001b[0m \u001b[0mself\u001b[0m\u001b[0;34m.\u001b[0m\u001b[0m_stream\u001b[0m\u001b[0;34m.\u001b[0m\u001b[0mread\u001b[0m\u001b[0;34m(\u001b[0m\u001b[0mself\u001b[0m\u001b[0;34m.\u001b[0m\u001b[0m_chunk_size\u001b[0m\u001b[0;34m)\u001b[0m\u001b[0;34m\u001b[0m\u001b[0;34m\u001b[0m\u001b[0m\n\u001b[0m\u001b[1;32m    182\u001b[0m         \u001b[0;32mreturn\u001b[0m \u001b[0msix\u001b[0m\u001b[0;34m.\u001b[0m\u001b[0mb\u001b[0m\u001b[0;34m(\u001b[0m\u001b[0;34m''\u001b[0m\u001b[0;34m)\u001b[0m\u001b[0;34m\u001b[0m\u001b[0;34m\u001b[0m\u001b[0m\n\u001b[1;32m    183\u001b[0m \u001b[0;34m\u001b[0m\u001b[0m\n",
            "\u001b[0;32m/usr/local/lib/python3.6/dist-packages/urllib3/response.py\u001b[0m in \u001b[0;36mread\u001b[0;34m(self, amt, decode_content, cache_content)\u001b[0m\n\u001b[1;32m    442\u001b[0m             \u001b[0;32melse\u001b[0m\u001b[0;34m:\u001b[0m\u001b[0;34m\u001b[0m\u001b[0;34m\u001b[0m\u001b[0m\n\u001b[1;32m    443\u001b[0m                 \u001b[0mcache_content\u001b[0m \u001b[0;34m=\u001b[0m \u001b[0;32mFalse\u001b[0m\u001b[0;34m\u001b[0m\u001b[0;34m\u001b[0m\u001b[0m\n\u001b[0;32m--> 444\u001b[0;31m                 \u001b[0mdata\u001b[0m \u001b[0;34m=\u001b[0m \u001b[0mself\u001b[0m\u001b[0;34m.\u001b[0m\u001b[0m_fp\u001b[0m\u001b[0;34m.\u001b[0m\u001b[0mread\u001b[0m\u001b[0;34m(\u001b[0m\u001b[0mamt\u001b[0m\u001b[0;34m)\u001b[0m\u001b[0;34m\u001b[0m\u001b[0;34m\u001b[0m\u001b[0m\n\u001b[0m\u001b[1;32m    445\u001b[0m                 \u001b[0;32mif\u001b[0m \u001b[0mamt\u001b[0m \u001b[0;34m!=\u001b[0m \u001b[0;36m0\u001b[0m \u001b[0;32mand\u001b[0m \u001b[0;32mnot\u001b[0m \u001b[0mdata\u001b[0m\u001b[0;34m:\u001b[0m  \u001b[0;31m# Platform-specific: Buggy versions of Python.\u001b[0m\u001b[0;34m\u001b[0m\u001b[0;34m\u001b[0m\u001b[0m\n\u001b[1;32m    446\u001b[0m                     \u001b[0;31m# Close the connection when no data is returned\u001b[0m\u001b[0;34m\u001b[0m\u001b[0;34m\u001b[0m\u001b[0;34m\u001b[0m\u001b[0m\n",
            "\u001b[0;32m/usr/lib/python3.6/http/client.py\u001b[0m in \u001b[0;36mread\u001b[0;34m(self, amt)\u001b[0m\n\u001b[1;32m    457\u001b[0m             \u001b[0;31m# Amount is given, implement using readinto\u001b[0m\u001b[0;34m\u001b[0m\u001b[0;34m\u001b[0m\u001b[0;34m\u001b[0m\u001b[0m\n\u001b[1;32m    458\u001b[0m             \u001b[0mb\u001b[0m \u001b[0;34m=\u001b[0m \u001b[0mbytearray\u001b[0m\u001b[0;34m(\u001b[0m\u001b[0mamt\u001b[0m\u001b[0;34m)\u001b[0m\u001b[0;34m\u001b[0m\u001b[0;34m\u001b[0m\u001b[0m\n\u001b[0;32m--> 459\u001b[0;31m             \u001b[0mn\u001b[0m \u001b[0;34m=\u001b[0m \u001b[0mself\u001b[0m\u001b[0;34m.\u001b[0m\u001b[0mreadinto\u001b[0m\u001b[0;34m(\u001b[0m\u001b[0mb\u001b[0m\u001b[0;34m)\u001b[0m\u001b[0;34m\u001b[0m\u001b[0;34m\u001b[0m\u001b[0m\n\u001b[0m\u001b[1;32m    460\u001b[0m             \u001b[0;32mreturn\u001b[0m \u001b[0mmemoryview\u001b[0m\u001b[0;34m(\u001b[0m\u001b[0mb\u001b[0m\u001b[0;34m)\u001b[0m\u001b[0;34m[\u001b[0m\u001b[0;34m:\u001b[0m\u001b[0mn\u001b[0m\u001b[0;34m]\u001b[0m\u001b[0;34m.\u001b[0m\u001b[0mtobytes\u001b[0m\u001b[0;34m(\u001b[0m\u001b[0;34m)\u001b[0m\u001b[0;34m\u001b[0m\u001b[0;34m\u001b[0m\u001b[0m\n\u001b[1;32m    461\u001b[0m         \u001b[0;32melse\u001b[0m\u001b[0;34m:\u001b[0m\u001b[0;34m\u001b[0m\u001b[0;34m\u001b[0m\u001b[0m\n",
            "\u001b[0;32m/usr/lib/python3.6/http/client.py\u001b[0m in \u001b[0;36mreadinto\u001b[0;34m(self, b)\u001b[0m\n\u001b[1;32m    491\u001b[0m \u001b[0;34m\u001b[0m\u001b[0m\n\u001b[1;32m    492\u001b[0m         \u001b[0;32mif\u001b[0m \u001b[0mself\u001b[0m\u001b[0;34m.\u001b[0m\u001b[0mchunked\u001b[0m\u001b[0;34m:\u001b[0m\u001b[0;34m\u001b[0m\u001b[0;34m\u001b[0m\u001b[0m\n\u001b[0;32m--> 493\u001b[0;31m             \u001b[0;32mreturn\u001b[0m \u001b[0mself\u001b[0m\u001b[0;34m.\u001b[0m\u001b[0m_readinto_chunked\u001b[0m\u001b[0;34m(\u001b[0m\u001b[0mb\u001b[0m\u001b[0;34m)\u001b[0m\u001b[0;34m\u001b[0m\u001b[0;34m\u001b[0m\u001b[0m\n\u001b[0m\u001b[1;32m    494\u001b[0m \u001b[0;34m\u001b[0m\u001b[0m\n\u001b[1;32m    495\u001b[0m         \u001b[0;32mif\u001b[0m \u001b[0mself\u001b[0m\u001b[0;34m.\u001b[0m\u001b[0mlength\u001b[0m \u001b[0;32mis\u001b[0m \u001b[0;32mnot\u001b[0m \u001b[0;32mNone\u001b[0m\u001b[0;34m:\u001b[0m\u001b[0;34m\u001b[0m\u001b[0;34m\u001b[0m\u001b[0m\n",
            "\u001b[0;32m/usr/lib/python3.6/http/client.py\u001b[0m in \u001b[0;36m_readinto_chunked\u001b[0;34m(self, b)\u001b[0m\n\u001b[1;32m    586\u001b[0m         \u001b[0;32mtry\u001b[0m\u001b[0;34m:\u001b[0m\u001b[0;34m\u001b[0m\u001b[0;34m\u001b[0m\u001b[0m\n\u001b[1;32m    587\u001b[0m             \u001b[0;32mwhile\u001b[0m \u001b[0;32mTrue\u001b[0m\u001b[0;34m:\u001b[0m\u001b[0;34m\u001b[0m\u001b[0;34m\u001b[0m\u001b[0m\n\u001b[0;32m--> 588\u001b[0;31m                 \u001b[0mchunk_left\u001b[0m \u001b[0;34m=\u001b[0m \u001b[0mself\u001b[0m\u001b[0;34m.\u001b[0m\u001b[0m_get_chunk_left\u001b[0m\u001b[0;34m(\u001b[0m\u001b[0;34m)\u001b[0m\u001b[0;34m\u001b[0m\u001b[0;34m\u001b[0m\u001b[0m\n\u001b[0m\u001b[1;32m    589\u001b[0m                 \u001b[0;32mif\u001b[0m \u001b[0mchunk_left\u001b[0m \u001b[0;32mis\u001b[0m \u001b[0;32mNone\u001b[0m\u001b[0;34m:\u001b[0m\u001b[0;34m\u001b[0m\u001b[0;34m\u001b[0m\u001b[0m\n\u001b[1;32m    590\u001b[0m                     \u001b[0;32mreturn\u001b[0m \u001b[0mtotal_bytes\u001b[0m\u001b[0;34m\u001b[0m\u001b[0;34m\u001b[0m\u001b[0m\n",
            "\u001b[0;32m/usr/lib/python3.6/http/client.py\u001b[0m in \u001b[0;36m_get_chunk_left\u001b[0;34m(self)\u001b[0m\n\u001b[1;32m    554\u001b[0m                 \u001b[0mself\u001b[0m\u001b[0;34m.\u001b[0m\u001b[0m_safe_read\u001b[0m\u001b[0;34m(\u001b[0m\u001b[0;36m2\u001b[0m\u001b[0;34m)\u001b[0m  \u001b[0;31m# toss the CRLF at the end of the chunk\u001b[0m\u001b[0;34m\u001b[0m\u001b[0;34m\u001b[0m\u001b[0m\n\u001b[1;32m    555\u001b[0m             \u001b[0;32mtry\u001b[0m\u001b[0;34m:\u001b[0m\u001b[0;34m\u001b[0m\u001b[0;34m\u001b[0m\u001b[0m\n\u001b[0;32m--> 556\u001b[0;31m                 \u001b[0mchunk_left\u001b[0m \u001b[0;34m=\u001b[0m \u001b[0mself\u001b[0m\u001b[0;34m.\u001b[0m\u001b[0m_read_next_chunk_size\u001b[0m\u001b[0;34m(\u001b[0m\u001b[0;34m)\u001b[0m\u001b[0;34m\u001b[0m\u001b[0;34m\u001b[0m\u001b[0m\n\u001b[0m\u001b[1;32m    557\u001b[0m             \u001b[0;32mexcept\u001b[0m \u001b[0mValueError\u001b[0m\u001b[0;34m:\u001b[0m\u001b[0;34m\u001b[0m\u001b[0;34m\u001b[0m\u001b[0m\n\u001b[1;32m    558\u001b[0m                 \u001b[0;32mraise\u001b[0m \u001b[0mIncompleteRead\u001b[0m\u001b[0;34m(\u001b[0m\u001b[0;34mb''\u001b[0m\u001b[0;34m)\u001b[0m\u001b[0;34m\u001b[0m\u001b[0;34m\u001b[0m\u001b[0m\n",
            "\u001b[0;32m/usr/lib/python3.6/http/client.py\u001b[0m in \u001b[0;36m_read_next_chunk_size\u001b[0;34m(self)\u001b[0m\n\u001b[1;32m    514\u001b[0m     \u001b[0;32mdef\u001b[0m \u001b[0m_read_next_chunk_size\u001b[0m\u001b[0;34m(\u001b[0m\u001b[0mself\u001b[0m\u001b[0;34m)\u001b[0m\u001b[0;34m:\u001b[0m\u001b[0;34m\u001b[0m\u001b[0;34m\u001b[0m\u001b[0m\n\u001b[1;32m    515\u001b[0m         \u001b[0;31m# Read the next chunk size from the file\u001b[0m\u001b[0;34m\u001b[0m\u001b[0;34m\u001b[0m\u001b[0;34m\u001b[0m\u001b[0m\n\u001b[0;32m--> 516\u001b[0;31m         \u001b[0mline\u001b[0m \u001b[0;34m=\u001b[0m \u001b[0mself\u001b[0m\u001b[0;34m.\u001b[0m\u001b[0mfp\u001b[0m\u001b[0;34m.\u001b[0m\u001b[0mreadline\u001b[0m\u001b[0;34m(\u001b[0m\u001b[0m_MAXLINE\u001b[0m \u001b[0;34m+\u001b[0m \u001b[0;36m1\u001b[0m\u001b[0;34m)\u001b[0m\u001b[0;34m\u001b[0m\u001b[0;34m\u001b[0m\u001b[0m\n\u001b[0m\u001b[1;32m    517\u001b[0m         \u001b[0;32mif\u001b[0m \u001b[0mlen\u001b[0m\u001b[0;34m(\u001b[0m\u001b[0mline\u001b[0m\u001b[0;34m)\u001b[0m \u001b[0;34m>\u001b[0m \u001b[0m_MAXLINE\u001b[0m\u001b[0;34m:\u001b[0m\u001b[0;34m\u001b[0m\u001b[0;34m\u001b[0m\u001b[0m\n\u001b[1;32m    518\u001b[0m             \u001b[0;32mraise\u001b[0m \u001b[0mLineTooLong\u001b[0m\u001b[0;34m(\u001b[0m\u001b[0;34m\"chunk size\"\u001b[0m\u001b[0;34m)\u001b[0m\u001b[0;34m\u001b[0m\u001b[0;34m\u001b[0m\u001b[0m\n",
            "\u001b[0;32m/usr/lib/python3.6/socket.py\u001b[0m in \u001b[0;36mreadinto\u001b[0;34m(self, b)\u001b[0m\n\u001b[1;32m    584\u001b[0m         \u001b[0;32mwhile\u001b[0m \u001b[0;32mTrue\u001b[0m\u001b[0;34m:\u001b[0m\u001b[0;34m\u001b[0m\u001b[0;34m\u001b[0m\u001b[0m\n\u001b[1;32m    585\u001b[0m             \u001b[0;32mtry\u001b[0m\u001b[0;34m:\u001b[0m\u001b[0;34m\u001b[0m\u001b[0;34m\u001b[0m\u001b[0m\n\u001b[0;32m--> 586\u001b[0;31m                 \u001b[0;32mreturn\u001b[0m \u001b[0mself\u001b[0m\u001b[0;34m.\u001b[0m\u001b[0m_sock\u001b[0m\u001b[0;34m.\u001b[0m\u001b[0mrecv_into\u001b[0m\u001b[0;34m(\u001b[0m\u001b[0mb\u001b[0m\u001b[0;34m)\u001b[0m\u001b[0;34m\u001b[0m\u001b[0;34m\u001b[0m\u001b[0m\n\u001b[0m\u001b[1;32m    587\u001b[0m             \u001b[0;32mexcept\u001b[0m \u001b[0mtimeout\u001b[0m\u001b[0;34m:\u001b[0m\u001b[0;34m\u001b[0m\u001b[0;34m\u001b[0m\u001b[0m\n\u001b[1;32m    588\u001b[0m                 \u001b[0mself\u001b[0m\u001b[0;34m.\u001b[0m\u001b[0m_timeout_occurred\u001b[0m \u001b[0;34m=\u001b[0m \u001b[0;32mTrue\u001b[0m\u001b[0;34m\u001b[0m\u001b[0;34m\u001b[0m\u001b[0m\n",
            "\u001b[0;32m/usr/lib/python3.6/ssl.py\u001b[0m in \u001b[0;36mrecv_into\u001b[0;34m(self, buffer, nbytes, flags)\u001b[0m\n\u001b[1;32m   1010\u001b[0m                   \u001b[0;34m\"non-zero flags not allowed in calls to recv_into() on %s\"\u001b[0m \u001b[0;34m%\u001b[0m\u001b[0;34m\u001b[0m\u001b[0;34m\u001b[0m\u001b[0m\n\u001b[1;32m   1011\u001b[0m                   self.__class__)\n\u001b[0;32m-> 1012\u001b[0;31m             \u001b[0;32mreturn\u001b[0m \u001b[0mself\u001b[0m\u001b[0;34m.\u001b[0m\u001b[0mread\u001b[0m\u001b[0;34m(\u001b[0m\u001b[0mnbytes\u001b[0m\u001b[0;34m,\u001b[0m \u001b[0mbuffer\u001b[0m\u001b[0;34m)\u001b[0m\u001b[0;34m\u001b[0m\u001b[0;34m\u001b[0m\u001b[0m\n\u001b[0m\u001b[1;32m   1013\u001b[0m         \u001b[0;32melse\u001b[0m\u001b[0;34m:\u001b[0m\u001b[0;34m\u001b[0m\u001b[0;34m\u001b[0m\u001b[0m\n\u001b[1;32m   1014\u001b[0m             \u001b[0;32mreturn\u001b[0m \u001b[0msocket\u001b[0m\u001b[0;34m.\u001b[0m\u001b[0mrecv_into\u001b[0m\u001b[0;34m(\u001b[0m\u001b[0mself\u001b[0m\u001b[0;34m,\u001b[0m \u001b[0mbuffer\u001b[0m\u001b[0;34m,\u001b[0m \u001b[0mnbytes\u001b[0m\u001b[0;34m,\u001b[0m \u001b[0mflags\u001b[0m\u001b[0;34m)\u001b[0m\u001b[0;34m\u001b[0m\u001b[0;34m\u001b[0m\u001b[0m\n",
            "\u001b[0;32m/usr/lib/python3.6/ssl.py\u001b[0m in \u001b[0;36mread\u001b[0;34m(self, len, buffer)\u001b[0m\n\u001b[1;32m    872\u001b[0m             \u001b[0;32mraise\u001b[0m \u001b[0mValueError\u001b[0m\u001b[0;34m(\u001b[0m\u001b[0;34m\"Read on closed or unwrapped SSL socket.\"\u001b[0m\u001b[0;34m)\u001b[0m\u001b[0;34m\u001b[0m\u001b[0;34m\u001b[0m\u001b[0m\n\u001b[1;32m    873\u001b[0m         \u001b[0;32mtry\u001b[0m\u001b[0;34m:\u001b[0m\u001b[0;34m\u001b[0m\u001b[0;34m\u001b[0m\u001b[0m\n\u001b[0;32m--> 874\u001b[0;31m             \u001b[0;32mreturn\u001b[0m \u001b[0mself\u001b[0m\u001b[0;34m.\u001b[0m\u001b[0m_sslobj\u001b[0m\u001b[0;34m.\u001b[0m\u001b[0mread\u001b[0m\u001b[0;34m(\u001b[0m\u001b[0mlen\u001b[0m\u001b[0;34m,\u001b[0m \u001b[0mbuffer\u001b[0m\u001b[0;34m)\u001b[0m\u001b[0;34m\u001b[0m\u001b[0;34m\u001b[0m\u001b[0m\n\u001b[0m\u001b[1;32m    875\u001b[0m         \u001b[0;32mexcept\u001b[0m \u001b[0mSSLError\u001b[0m \u001b[0;32mas\u001b[0m \u001b[0mx\u001b[0m\u001b[0;34m:\u001b[0m\u001b[0;34m\u001b[0m\u001b[0;34m\u001b[0m\u001b[0m\n\u001b[1;32m    876\u001b[0m             \u001b[0;32mif\u001b[0m \u001b[0mx\u001b[0m\u001b[0;34m.\u001b[0m\u001b[0margs\u001b[0m\u001b[0;34m[\u001b[0m\u001b[0;36m0\u001b[0m\u001b[0;34m]\u001b[0m \u001b[0;34m==\u001b[0m \u001b[0mSSL_ERROR_EOF\u001b[0m \u001b[0;32mand\u001b[0m \u001b[0mself\u001b[0m\u001b[0;34m.\u001b[0m\u001b[0msuppress_ragged_eofs\u001b[0m\u001b[0;34m:\u001b[0m\u001b[0;34m\u001b[0m\u001b[0;34m\u001b[0m\u001b[0m\n",
            "\u001b[0;32m/usr/lib/python3.6/ssl.py\u001b[0m in \u001b[0;36mread\u001b[0;34m(self, len, buffer)\u001b[0m\n\u001b[1;32m    629\u001b[0m         \"\"\"\n\u001b[1;32m    630\u001b[0m         \u001b[0;32mif\u001b[0m \u001b[0mbuffer\u001b[0m \u001b[0;32mis\u001b[0m \u001b[0;32mnot\u001b[0m \u001b[0;32mNone\u001b[0m\u001b[0;34m:\u001b[0m\u001b[0;34m\u001b[0m\u001b[0;34m\u001b[0m\u001b[0m\n\u001b[0;32m--> 631\u001b[0;31m             \u001b[0mv\u001b[0m \u001b[0;34m=\u001b[0m \u001b[0mself\u001b[0m\u001b[0;34m.\u001b[0m\u001b[0m_sslobj\u001b[0m\u001b[0;34m.\u001b[0m\u001b[0mread\u001b[0m\u001b[0;34m(\u001b[0m\u001b[0mlen\u001b[0m\u001b[0;34m,\u001b[0m \u001b[0mbuffer\u001b[0m\u001b[0;34m)\u001b[0m\u001b[0;34m\u001b[0m\u001b[0;34m\u001b[0m\u001b[0m\n\u001b[0m\u001b[1;32m    632\u001b[0m         \u001b[0;32melse\u001b[0m\u001b[0;34m:\u001b[0m\u001b[0;34m\u001b[0m\u001b[0;34m\u001b[0m\u001b[0m\n\u001b[1;32m    633\u001b[0m             \u001b[0mv\u001b[0m \u001b[0;34m=\u001b[0m \u001b[0mself\u001b[0m\u001b[0;34m.\u001b[0m\u001b[0m_sslobj\u001b[0m\u001b[0;34m.\u001b[0m\u001b[0mread\u001b[0m\u001b[0;34m(\u001b[0m\u001b[0mlen\u001b[0m\u001b[0;34m)\u001b[0m\u001b[0;34m\u001b[0m\u001b[0;34m\u001b[0m\u001b[0m\n",
            "\u001b[0;31mKeyboardInterrupt\u001b[0m: "
          ]
        }
      ]
    },
    {
      "cell_type": "code",
      "metadata": {
        "id": "DEosTvy6U01N",
        "colab_type": "code",
        "colab": {}
      },
      "source": [
        ""
      ],
      "execution_count": 0,
      "outputs": []
    }
  ]
}